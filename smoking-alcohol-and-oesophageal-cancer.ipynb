{
 "cells": [
  {
   "cell_type": "code",
   "execution_count": 1,
   "metadata": {},
   "outputs": [],
   "source": [
    "import pandas as pd\n",
    "import numpy as np\n",
    "import matplotlib.pyplot as plt"
   ]
  },
  {
   "cell_type": "markdown",
   "metadata": {},
   "source": [
    "### dataset = https://www.kaggle.com/ukveteran/smoking-alcohol-and-oesophageal-cancer/download"
   ]
  },
  {
   "cell_type": "markdown",
   "metadata": {},
   "source": [
    "# **Initial Data Analysis**"
   ]
  },
  {
   "cell_type": "code",
   "execution_count": 2,
   "metadata": {},
   "outputs": [
    {
     "data": {
      "text/html": [
       "<div>\n",
       "<style scoped>\n",
       "    .dataframe tbody tr th:only-of-type {\n",
       "        vertical-align: middle;\n",
       "    }\n",
       "\n",
       "    .dataframe tbody tr th {\n",
       "        vertical-align: top;\n",
       "    }\n",
       "\n",
       "    .dataframe thead th {\n",
       "        text-align: right;\n",
       "    }\n",
       "</style>\n",
       "<table border=\"1\" class=\"dataframe\">\n",
       "  <thead>\n",
       "    <tr style=\"text-align: right;\">\n",
       "      <th></th>\n",
       "      <th>Unnamed: 0</th>\n",
       "      <th>agegp</th>\n",
       "      <th>alcgp</th>\n",
       "      <th>tobgp</th>\n",
       "      <th>ncases</th>\n",
       "      <th>ncontrols</th>\n",
       "    </tr>\n",
       "  </thead>\n",
       "  <tbody>\n",
       "    <tr>\n",
       "      <th>0</th>\n",
       "      <td>1</td>\n",
       "      <td>25-34</td>\n",
       "      <td>0-39g/day</td>\n",
       "      <td>0-9g/day</td>\n",
       "      <td>0</td>\n",
       "      <td>40</td>\n",
       "    </tr>\n",
       "    <tr>\n",
       "      <th>1</th>\n",
       "      <td>2</td>\n",
       "      <td>25-34</td>\n",
       "      <td>0-39g/day</td>\n",
       "      <td>10-19</td>\n",
       "      <td>0</td>\n",
       "      <td>10</td>\n",
       "    </tr>\n",
       "    <tr>\n",
       "      <th>2</th>\n",
       "      <td>3</td>\n",
       "      <td>25-34</td>\n",
       "      <td>0-39g/day</td>\n",
       "      <td>20-29</td>\n",
       "      <td>0</td>\n",
       "      <td>6</td>\n",
       "    </tr>\n",
       "    <tr>\n",
       "      <th>3</th>\n",
       "      <td>4</td>\n",
       "      <td>25-34</td>\n",
       "      <td>0-39g/day</td>\n",
       "      <td>30+</td>\n",
       "      <td>0</td>\n",
       "      <td>5</td>\n",
       "    </tr>\n",
       "    <tr>\n",
       "      <th>4</th>\n",
       "      <td>5</td>\n",
       "      <td>25-34</td>\n",
       "      <td>40-79</td>\n",
       "      <td>0-9g/day</td>\n",
       "      <td>0</td>\n",
       "      <td>27</td>\n",
       "    </tr>\n",
       "  </tbody>\n",
       "</table>\n",
       "</div>"
      ],
      "text/plain": [
       "   Unnamed: 0  agegp      alcgp     tobgp  ncases  ncontrols\n",
       "0           1  25-34  0-39g/day  0-9g/day       0         40\n",
       "1           2  25-34  0-39g/day     10-19       0         10\n",
       "2           3  25-34  0-39g/day     20-29       0          6\n",
       "3           4  25-34  0-39g/day       30+       0          5\n",
       "4           5  25-34      40-79  0-9g/day       0         27"
      ]
     },
     "execution_count": 2,
     "metadata": {},
     "output_type": "execute_result"
    }
   ],
   "source": [
    "data = pd.read_csv(\"data.csv\")\n",
    "data.head()"
   ]
  },
  {
   "cell_type": "markdown",
   "metadata": {},
   "source": [
    "### Missing Values Check"
   ]
  },
  {
   "cell_type": "code",
   "execution_count": 3,
   "metadata": {},
   "outputs": [
    {
     "data": {
      "text/plain": [
       "Unnamed: 0    0\n",
       "agegp         0\n",
       "alcgp         0\n",
       "tobgp         0\n",
       "ncases        0\n",
       "ncontrols     0\n",
       "dtype: int64"
      ]
     },
     "execution_count": 3,
     "metadata": {},
     "output_type": "execute_result"
    }
   ],
   "source": [
    "data.isna().sum()"
   ]
  },
  {
   "cell_type": "code",
   "execution_count": 4,
   "metadata": {},
   "outputs": [
    {
     "data": {
      "text/plain": [
       "Index(['Unnamed: 0', 'agegp', 'alcgp', 'tobgp', 'ncases', 'ncontrols'], dtype='object')"
      ]
     },
     "execution_count": 4,
     "metadata": {},
     "output_type": "execute_result"
    }
   ],
   "source": [
    "data.columns"
   ]
  },
  {
   "cell_type": "code",
   "execution_count": 5,
   "metadata": {},
   "outputs": [
    {
     "data": {
      "text/plain": [
       "Unnamed: 0     int64\n",
       "agegp         object\n",
       "alcgp         object\n",
       "tobgp         object\n",
       "ncases         int64\n",
       "ncontrols      int64\n",
       "dtype: object"
      ]
     },
     "execution_count": 5,
     "metadata": {},
     "output_type": "execute_result"
    }
   ],
   "source": [
    "data.dtypes"
   ]
  },
  {
   "cell_type": "code",
   "execution_count": 6,
   "metadata": {},
   "outputs": [
    {
     "data": {
      "text/html": [
       "<div>\n",
       "<style scoped>\n",
       "    .dataframe tbody tr th:only-of-type {\n",
       "        vertical-align: middle;\n",
       "    }\n",
       "\n",
       "    .dataframe tbody tr th {\n",
       "        vertical-align: top;\n",
       "    }\n",
       "\n",
       "    .dataframe thead th {\n",
       "        text-align: right;\n",
       "    }\n",
       "</style>\n",
       "<table border=\"1\" class=\"dataframe\">\n",
       "  <thead>\n",
       "    <tr style=\"text-align: right;\">\n",
       "      <th></th>\n",
       "      <th>Unnamed: 0</th>\n",
       "      <th>ncases</th>\n",
       "      <th>ncontrols</th>\n",
       "    </tr>\n",
       "  </thead>\n",
       "  <tbody>\n",
       "    <tr>\n",
       "      <th>count</th>\n",
       "      <td>88.000000</td>\n",
       "      <td>88.000000</td>\n",
       "      <td>88.000000</td>\n",
       "    </tr>\n",
       "    <tr>\n",
       "      <th>mean</th>\n",
       "      <td>44.500000</td>\n",
       "      <td>2.272727</td>\n",
       "      <td>11.079545</td>\n",
       "    </tr>\n",
       "    <tr>\n",
       "      <th>std</th>\n",
       "      <td>25.547342</td>\n",
       "      <td>2.753169</td>\n",
       "      <td>12.722703</td>\n",
       "    </tr>\n",
       "    <tr>\n",
       "      <th>min</th>\n",
       "      <td>1.000000</td>\n",
       "      <td>0.000000</td>\n",
       "      <td>1.000000</td>\n",
       "    </tr>\n",
       "    <tr>\n",
       "      <th>25%</th>\n",
       "      <td>22.750000</td>\n",
       "      <td>0.000000</td>\n",
       "      <td>3.000000</td>\n",
       "    </tr>\n",
       "    <tr>\n",
       "      <th>50%</th>\n",
       "      <td>44.500000</td>\n",
       "      <td>1.000000</td>\n",
       "      <td>6.000000</td>\n",
       "    </tr>\n",
       "    <tr>\n",
       "      <th>75%</th>\n",
       "      <td>66.250000</td>\n",
       "      <td>4.000000</td>\n",
       "      <td>14.000000</td>\n",
       "    </tr>\n",
       "    <tr>\n",
       "      <th>max</th>\n",
       "      <td>88.000000</td>\n",
       "      <td>17.000000</td>\n",
       "      <td>60.000000</td>\n",
       "    </tr>\n",
       "  </tbody>\n",
       "</table>\n",
       "</div>"
      ],
      "text/plain": [
       "       Unnamed: 0     ncases  ncontrols\n",
       "count   88.000000  88.000000  88.000000\n",
       "mean    44.500000   2.272727  11.079545\n",
       "std     25.547342   2.753169  12.722703\n",
       "min      1.000000   0.000000   1.000000\n",
       "25%     22.750000   0.000000   3.000000\n",
       "50%     44.500000   1.000000   6.000000\n",
       "75%     66.250000   4.000000  14.000000\n",
       "max     88.000000  17.000000  60.000000"
      ]
     },
     "execution_count": 6,
     "metadata": {},
     "output_type": "execute_result"
    }
   ],
   "source": [
    "data.describe()"
   ]
  },
  {
   "cell_type": "code",
   "execution_count": 7,
   "metadata": {},
   "outputs": [
    {
     "data": {
      "text/html": [
       "<div>\n",
       "<style scoped>\n",
       "    .dataframe tbody tr th:only-of-type {\n",
       "        vertical-align: middle;\n",
       "    }\n",
       "\n",
       "    .dataframe tbody tr th {\n",
       "        vertical-align: top;\n",
       "    }\n",
       "\n",
       "    .dataframe thead th {\n",
       "        text-align: right;\n",
       "    }\n",
       "</style>\n",
       "<table border=\"1\" class=\"dataframe\">\n",
       "  <thead>\n",
       "    <tr style=\"text-align: right;\">\n",
       "      <th></th>\n",
       "      <th>Unnamed: 0</th>\n",
       "      <th>ncases</th>\n",
       "      <th>ncontrols</th>\n",
       "    </tr>\n",
       "  </thead>\n",
       "  <tbody>\n",
       "    <tr>\n",
       "      <th>Unnamed: 0</th>\n",
       "      <td>1.000000</td>\n",
       "      <td>0.351514</td>\n",
       "      <td>-0.160250</td>\n",
       "    </tr>\n",
       "    <tr>\n",
       "      <th>ncases</th>\n",
       "      <td>0.351514</td>\n",
       "      <td>1.000000</td>\n",
       "      <td>0.316692</td>\n",
       "    </tr>\n",
       "    <tr>\n",
       "      <th>ncontrols</th>\n",
       "      <td>-0.160250</td>\n",
       "      <td>0.316692</td>\n",
       "      <td>1.000000</td>\n",
       "    </tr>\n",
       "  </tbody>\n",
       "</table>\n",
       "</div>"
      ],
      "text/plain": [
       "            Unnamed: 0    ncases  ncontrols\n",
       "Unnamed: 0    1.000000  0.351514  -0.160250\n",
       "ncases        0.351514  1.000000   0.316692\n",
       "ncontrols    -0.160250  0.316692   1.000000"
      ]
     },
     "execution_count": 7,
     "metadata": {},
     "output_type": "execute_result"
    }
   ],
   "source": [
    "data.corr()"
   ]
  },
  {
   "cell_type": "markdown",
   "metadata": {},
   "source": [
    "# **Data Preprocessing**"
   ]
  },
  {
   "cell_type": "markdown",
   "metadata": {},
   "source": [
    "As you see above, we need to make some preprocessing works for 'agegp', 'alcgp', 'tobgp' columns and we need to get rid of from column 'Unnamed: 0'. So we are gonna drop 'Unnamed: 0' and label encode the other 3 columns we mentioned before."
   ]
  },
  {
   "cell_type": "markdown",
   "metadata": {},
   "source": [
    "## 'agegp'"
   ]
  },
  {
   "cell_type": "code",
   "execution_count": 8,
   "metadata": {},
   "outputs": [
    {
     "data": {
      "text/plain": [
       "45-54    16\n",
       "55-64    16\n",
       "25-34    15\n",
       "35-44    15\n",
       "65-74    15\n",
       "75+      11\n",
       "Name: agegp, dtype: int64"
      ]
     },
     "execution_count": 8,
     "metadata": {},
     "output_type": "execute_result"
    }
   ],
   "source": [
    "data.agegp.value_counts()"
   ]
  },
  {
   "cell_type": "code",
   "execution_count": 9,
   "metadata": {},
   "outputs": [
    {
     "name": "stdout",
     "output_type": "stream",
     "text": [
      "['25-34' '25-34' '25-34' '25-34' '25-34' '25-34' '25-34' '25-34' '25-34'\n",
      " '25-34' '25-34' '25-34' '25-34' '25-34' '25-34' '35-44' '35-44' '35-44'\n",
      " '35-44' '35-44' '35-44' '35-44' '35-44' '35-44' '35-44' '35-44' '35-44'\n",
      " '35-44' '35-44' '35-44' '45-54' '45-54' '45-54' '45-54' '45-54' '45-54'\n",
      " '45-54' '45-54' '45-54' '45-54' '45-54' '45-54' '45-54' '45-54' '45-54'\n",
      " '45-54' '55-64' '55-64' '55-64' '55-64' '55-64' '55-64' '55-64' '55-64'\n",
      " '55-64' '55-64' '55-64' '55-64' '55-64' '55-64' '55-64' '55-64' '65-74'\n",
      " '65-74' '65-74' '65-74' '65-74' '65-74' '65-74' '65-74' '65-74' '65-74'\n",
      " '65-74' '65-74' '65-74' '65-74' '65-74' '75+' '75+' '75+' '75+' '75+'\n",
      " '75+' '75+' '75+' '75+' '75+' '75+']\n",
      "[0 0 0 0 0 0 0 0 0 0 0 0 0 0 0 1 1 1 1 1 1 1 1 1 1 1 1 1 1 1 2 2 2 2 2 2 2\n",
      " 2 2 2 2 2 2 2 2 2 3 3 3 3 3 3 3 3 3 3 3 3 3 3 3 3 4 4 4 4 4 4 4 4 4 4 4 4\n",
      " 4 4 4 5 5 5 5 5 5 5 5 5 5 5]\n"
     ]
    }
   ],
   "source": [
    "from sklearn.preprocessing import LabelEncoder\n",
    "le = LabelEncoder()\n",
    "agegp_column = le.fit_transform(data.loc[:,'agegp'].values)\n",
    "print(data.loc[:,'agegp'].values)\n",
    "print(agegp_column)"
   ]
  },
  {
   "cell_type": "markdown",
   "metadata": {},
   "source": [
    "## 'alcgp'"
   ]
  },
  {
   "cell_type": "code",
   "execution_count": 10,
   "metadata": {},
   "outputs": [
    {
     "data": {
      "text/plain": [
       "0-39g/day    23\n",
       "40-79        23\n",
       "80-119       21\n",
       "120+         21\n",
       "Name: alcgp, dtype: int64"
      ]
     },
     "execution_count": 10,
     "metadata": {},
     "output_type": "execute_result"
    }
   ],
   "source": [
    "data.alcgp.value_counts()"
   ]
  },
  {
   "cell_type": "code",
   "execution_count": 11,
   "metadata": {},
   "outputs": [
    {
     "name": "stdout",
     "output_type": "stream",
     "text": [
      "['0-39g/day' '0-39g/day' '0-39g/day' '0-39g/day' '40-79' '40-79' '40-79'\n",
      " '40-79' '80-119' '80-119' '80-119' '120+' '120+' '120+' '120+'\n",
      " '0-39g/day' '0-39g/day' '0-39g/day' '0-39g/day' '40-79' '40-79' '40-79'\n",
      " '40-79' '80-119' '80-119' '80-119' '80-119' '120+' '120+' '120+'\n",
      " '0-39g/day' '0-39g/day' '0-39g/day' '0-39g/day' '40-79' '40-79' '40-79'\n",
      " '40-79' '80-119' '80-119' '80-119' '80-119' '120+' '120+' '120+' '120+'\n",
      " '0-39g/day' '0-39g/day' '0-39g/day' '0-39g/day' '40-79' '40-79' '40-79'\n",
      " '40-79' '80-119' '80-119' '80-119' '80-119' '120+' '120+' '120+' '120+'\n",
      " '0-39g/day' '0-39g/day' '0-39g/day' '0-39g/day' '40-79' '40-79' '40-79'\n",
      " '80-119' '80-119' '80-119' '80-119' '120+' '120+' '120+' '120+'\n",
      " '0-39g/day' '0-39g/day' '0-39g/day' '40-79' '40-79' '40-79' '40-79'\n",
      " '80-119' '80-119' '120+' '120+']\n",
      "[0 0 0 0 2 2 2 2 3 3 3 1 1 1 1 0 0 0 0 2 2 2 2 3 3 3 3 1 1 1 0 0 0 0 2 2 2\n",
      " 2 3 3 3 3 1 1 1 1 0 0 0 0 2 2 2 2 3 3 3 3 1 1 1 1 0 0 0 0 2 2 2 3 3 3 3 1\n",
      " 1 1 1 0 0 0 2 2 2 2 3 3 1 1]\n"
     ]
    }
   ],
   "source": [
    "le = LabelEncoder()\n",
    "alcgp_column = le.fit_transform(data.loc[:,'alcgp'].values)\n",
    "print(data.loc[:,'alcgp'].values)\n",
    "print(alcgp_column)"
   ]
  },
  {
   "cell_type": "markdown",
   "metadata": {},
   "source": [
    "## 'tobgp'"
   ]
  },
  {
   "cell_type": "code",
   "execution_count": 12,
   "metadata": {},
   "outputs": [
    {
     "data": {
      "text/plain": [
       "0-9g/day    24\n",
       "10-19       24\n",
       "20-29       20\n",
       "30+         20\n",
       "Name: tobgp, dtype: int64"
      ]
     },
     "execution_count": 12,
     "metadata": {},
     "output_type": "execute_result"
    }
   ],
   "source": [
    "data.tobgp.value_counts()"
   ]
  },
  {
   "cell_type": "code",
   "execution_count": 13,
   "metadata": {},
   "outputs": [
    {
     "name": "stdout",
     "output_type": "stream",
     "text": [
      "['0-9g/day' '10-19' '20-29' '30+' '0-9g/day' '10-19' '20-29' '30+'\n",
      " '0-9g/day' '10-19' '30+' '0-9g/day' '10-19' '20-29' '30+' '0-9g/day'\n",
      " '10-19' '20-29' '30+' '0-9g/day' '10-19' '20-29' '30+' '0-9g/day' '10-19'\n",
      " '20-29' '30+' '0-9g/day' '10-19' '20-29' '0-9g/day' '10-19' '20-29' '30+'\n",
      " '0-9g/day' '10-19' '20-29' '30+' '0-9g/day' '10-19' '20-29' '30+'\n",
      " '0-9g/day' '10-19' '20-29' '30+' '0-9g/day' '10-19' '20-29' '30+'\n",
      " '0-9g/day' '10-19' '20-29' '30+' '0-9g/day' '10-19' '20-29' '30+'\n",
      " '0-9g/day' '10-19' '20-29' '30+' '0-9g/day' '10-19' '20-29' '30+'\n",
      " '0-9g/day' '10-19' '20-29' '0-9g/day' '10-19' '20-29' '30+' '0-9g/day'\n",
      " '10-19' '20-29' '30+' '0-9g/day' '10-19' '30+' '0-9g/day' '10-19' '20-29'\n",
      " '30+' '0-9g/day' '10-19' '0-9g/day' '10-19']\n",
      "[0 1 2 3 0 1 2 3 0 1 3 0 1 2 3 0 1 2 3 0 1 2 3 0 1 2 3 0 1 2 0 1 2 3 0 1 2\n",
      " 3 0 1 2 3 0 1 2 3 0 1 2 3 0 1 2 3 0 1 2 3 0 1 2 3 0 1 2 3 0 1 2 0 1 2 3 0\n",
      " 1 2 3 0 1 3 0 1 2 3 0 1 0 1]\n"
     ]
    }
   ],
   "source": [
    "le = LabelEncoder()\n",
    "tobgp_column = le.fit_transform(data.loc[:,'tobgp'].values)\n",
    "print(data.loc[:,'tobgp'].values)\n",
    "print(tobgp_column)"
   ]
  },
  {
   "cell_type": "markdown",
   "metadata": {},
   "source": [
    "### Let's gather the data with preprocessed data."
   ]
  },
  {
   "cell_type": "code",
   "execution_count": 14,
   "metadata": {},
   "outputs": [
    {
     "data": {
      "text/html": [
       "<div>\n",
       "<style scoped>\n",
       "    .dataframe tbody tr th:only-of-type {\n",
       "        vertical-align: middle;\n",
       "    }\n",
       "\n",
       "    .dataframe tbody tr th {\n",
       "        vertical-align: top;\n",
       "    }\n",
       "\n",
       "    .dataframe thead th {\n",
       "        text-align: right;\n",
       "    }\n",
       "</style>\n",
       "<table border=\"1\" class=\"dataframe\">\n",
       "  <thead>\n",
       "    <tr style=\"text-align: right;\">\n",
       "      <th></th>\n",
       "      <th>0</th>\n",
       "      <th>0</th>\n",
       "      <th>0</th>\n",
       "      <th>ncases</th>\n",
       "      <th>ncontrols</th>\n",
       "    </tr>\n",
       "  </thead>\n",
       "  <tbody>\n",
       "    <tr>\n",
       "      <th>0</th>\n",
       "      <td>0</td>\n",
       "      <td>0</td>\n",
       "      <td>0</td>\n",
       "      <td>0</td>\n",
       "      <td>40</td>\n",
       "    </tr>\n",
       "    <tr>\n",
       "      <th>1</th>\n",
       "      <td>0</td>\n",
       "      <td>0</td>\n",
       "      <td>1</td>\n",
       "      <td>0</td>\n",
       "      <td>10</td>\n",
       "    </tr>\n",
       "    <tr>\n",
       "      <th>2</th>\n",
       "      <td>0</td>\n",
       "      <td>0</td>\n",
       "      <td>2</td>\n",
       "      <td>0</td>\n",
       "      <td>6</td>\n",
       "    </tr>\n",
       "    <tr>\n",
       "      <th>3</th>\n",
       "      <td>0</td>\n",
       "      <td>0</td>\n",
       "      <td>3</td>\n",
       "      <td>0</td>\n",
       "      <td>5</td>\n",
       "    </tr>\n",
       "    <tr>\n",
       "      <th>4</th>\n",
       "      <td>0</td>\n",
       "      <td>2</td>\n",
       "      <td>0</td>\n",
       "      <td>0</td>\n",
       "      <td>27</td>\n",
       "    </tr>\n",
       "    <tr>\n",
       "      <th>...</th>\n",
       "      <td>...</td>\n",
       "      <td>...</td>\n",
       "      <td>...</td>\n",
       "      <td>...</td>\n",
       "      <td>...</td>\n",
       "    </tr>\n",
       "    <tr>\n",
       "      <th>83</th>\n",
       "      <td>5</td>\n",
       "      <td>2</td>\n",
       "      <td>3</td>\n",
       "      <td>1</td>\n",
       "      <td>1</td>\n",
       "    </tr>\n",
       "    <tr>\n",
       "      <th>84</th>\n",
       "      <td>5</td>\n",
       "      <td>3</td>\n",
       "      <td>0</td>\n",
       "      <td>1</td>\n",
       "      <td>1</td>\n",
       "    </tr>\n",
       "    <tr>\n",
       "      <th>85</th>\n",
       "      <td>5</td>\n",
       "      <td>3</td>\n",
       "      <td>1</td>\n",
       "      <td>1</td>\n",
       "      <td>1</td>\n",
       "    </tr>\n",
       "    <tr>\n",
       "      <th>86</th>\n",
       "      <td>5</td>\n",
       "      <td>1</td>\n",
       "      <td>0</td>\n",
       "      <td>2</td>\n",
       "      <td>2</td>\n",
       "    </tr>\n",
       "    <tr>\n",
       "      <th>87</th>\n",
       "      <td>5</td>\n",
       "      <td>1</td>\n",
       "      <td>1</td>\n",
       "      <td>1</td>\n",
       "      <td>1</td>\n",
       "    </tr>\n",
       "  </tbody>\n",
       "</table>\n",
       "<p>88 rows × 5 columns</p>\n",
       "</div>"
      ],
      "text/plain": [
       "    0  0  0  ncases  ncontrols\n",
       "0   0  0  0       0         40\n",
       "1   0  0  1       0         10\n",
       "2   0  0  2       0          6\n",
       "3   0  0  3       0          5\n",
       "4   0  2  0       0         27\n",
       ".. .. .. ..     ...        ...\n",
       "83  5  2  3       1          1\n",
       "84  5  3  0       1          1\n",
       "85  5  3  1       1          1\n",
       "86  5  1  0       2          2\n",
       "87  5  1  1       1          1\n",
       "\n",
       "[88 rows x 5 columns]"
      ]
     },
     "execution_count": 14,
     "metadata": {},
     "output_type": "execute_result"
    }
   ],
   "source": [
    "preprocessed_data = pd.concat([pd.DataFrame(agegp_column),pd.DataFrame(alcgp_column),\n",
    "                                pd.DataFrame(tobgp_column),data.loc[:,['ncases', 'ncontrols']]],axis=1)\n",
    "preprocessed_data"
   ]
  },
  {
   "cell_type": "markdown",
   "metadata": {},
   "source": [
    "### Lets edit column names"
   ]
  },
  {
   "cell_type": "code",
   "execution_count": 15,
   "metadata": {},
   "outputs": [
    {
     "data": {
      "text/html": [
       "<div>\n",
       "<style scoped>\n",
       "    .dataframe tbody tr th:only-of-type {\n",
       "        vertical-align: middle;\n",
       "    }\n",
       "\n",
       "    .dataframe tbody tr th {\n",
       "        vertical-align: top;\n",
       "    }\n",
       "\n",
       "    .dataframe thead th {\n",
       "        text-align: right;\n",
       "    }\n",
       "</style>\n",
       "<table border=\"1\" class=\"dataframe\">\n",
       "  <thead>\n",
       "    <tr style=\"text-align: right;\">\n",
       "      <th></th>\n",
       "      <th>agegp</th>\n",
       "      <th>alcgp</th>\n",
       "      <th>tobgp</th>\n",
       "      <th>ncases</th>\n",
       "      <th>ncontrols</th>\n",
       "    </tr>\n",
       "  </thead>\n",
       "  <tbody>\n",
       "    <tr>\n",
       "      <th>0</th>\n",
       "      <td>0</td>\n",
       "      <td>0</td>\n",
       "      <td>0</td>\n",
       "      <td>0</td>\n",
       "      <td>40</td>\n",
       "    </tr>\n",
       "    <tr>\n",
       "      <th>1</th>\n",
       "      <td>0</td>\n",
       "      <td>0</td>\n",
       "      <td>1</td>\n",
       "      <td>0</td>\n",
       "      <td>10</td>\n",
       "    </tr>\n",
       "    <tr>\n",
       "      <th>2</th>\n",
       "      <td>0</td>\n",
       "      <td>0</td>\n",
       "      <td>2</td>\n",
       "      <td>0</td>\n",
       "      <td>6</td>\n",
       "    </tr>\n",
       "    <tr>\n",
       "      <th>3</th>\n",
       "      <td>0</td>\n",
       "      <td>0</td>\n",
       "      <td>3</td>\n",
       "      <td>0</td>\n",
       "      <td>5</td>\n",
       "    </tr>\n",
       "    <tr>\n",
       "      <th>4</th>\n",
       "      <td>0</td>\n",
       "      <td>2</td>\n",
       "      <td>0</td>\n",
       "      <td>0</td>\n",
       "      <td>27</td>\n",
       "    </tr>\n",
       "  </tbody>\n",
       "</table>\n",
       "</div>"
      ],
      "text/plain": [
       "   agegp  alcgp  tobgp  ncases  ncontrols\n",
       "0      0      0      0       0         40\n",
       "1      0      0      1       0         10\n",
       "2      0      0      2       0          6\n",
       "3      0      0      3       0          5\n",
       "4      0      2      0       0         27"
      ]
     },
     "execution_count": 15,
     "metadata": {},
     "output_type": "execute_result"
    }
   ],
   "source": [
    "preprocessed_data.columns = ['agegp', 'alcgp', 'tobgp', 'ncases', 'ncontrols']\n",
    "preprocessed_data.head()"
   ]
  },
  {
   "cell_type": "markdown",
   "metadata": {},
   "source": [
    "### Let's take a look to data after finished preprocessing."
   ]
  },
  {
   "cell_type": "code",
   "execution_count": 16,
   "metadata": {},
   "outputs": [
    {
     "name": "stdout",
     "output_type": "stream",
     "text": [
      "\u001b[2;37;40mDATA DETAILS:\u001b[0;37;40m\n",
      "           agegp      alcgp      tobgp     ncases  ncontrols\n",
      "count  88.000000  88.000000  88.000000  88.000000  88.000000\n",
      "mean    2.386364   1.477273   1.409091   2.272727  11.079545\n",
      "std     1.650021   1.124209   1.120718   2.753169  12.722703\n",
      "min     0.000000   0.000000   0.000000   0.000000   1.000000\n",
      "25%     1.000000   0.000000   0.000000   0.000000   3.000000\n",
      "50%     2.000000   1.500000   1.000000   1.000000   6.000000\n",
      "75%     4.000000   2.000000   2.000000   4.000000  14.000000\n",
      "max     5.000000   3.000000   3.000000  17.000000  60.000000\n",
      "NULL CONTROL:\n",
      "agegp        0\n",
      "alcgp        0\n",
      "tobgp        0\n",
      "ncases       0\n",
      "ncontrols    0\n",
      "dtype: int64\n",
      "CORRELATIONS:\n",
      "              agegp     alcgp     tobgp    ncases  ncontrols\n",
      "agegp      1.000000  0.004788 -0.067808  0.345950  -0.061162\n",
      "alcgp      0.004788  1.000000 -0.019905  0.195135  -0.200377\n",
      "tobgp     -0.067808 -0.019905  1.000000 -0.241462  -0.506140\n",
      "ncases     0.345950  0.195135 -0.241462  1.000000   0.316692\n",
      "ncontrols -0.061162 -0.200377 -0.506140  0.316692   1.000000\n"
     ]
    }
   ],
   "source": [
    "print(\"\\033[2;37;40mDATA DETAILS:\\033[0;37;40m\")\n",
    "print(preprocessed_data.describe())\n",
    "\n",
    "print(\"NULL CONTROL:\")\n",
    "print(preprocessed_data.isna().sum())\n",
    "\n",
    "print(\"CORRELATIONS:\")\n",
    "print(preprocessed_data.corr())\n"
   ]
  },
  {
   "cell_type": "markdown",
   "metadata": {},
   "source": [
    "# *CLUSTERING DATA TO CREATE A TARGET VARIABLE*"
   ]
  },
  {
   "cell_type": "markdown",
   "metadata": {},
   "source": [
    "### Let's use KMeans to figure out how many cluster we have."
   ]
  },
  {
   "cell_type": "code",
   "execution_count": 17,
   "metadata": {},
   "outputs": [],
   "source": [
    "# To get better results with KMeans, we are scaling data\n",
    "from sklearn.preprocessing import StandardScaler\n",
    "sc = StandardScaler()\n",
    "scaled_data = sc.fit_transform(preprocessed_data)"
   ]
  },
  {
   "cell_type": "code",
   "execution_count": 18,
   "metadata": {},
   "outputs": [],
   "source": [
    "from sklearn.cluster import KMeans\n",
    "\n",
    "wcss = [] # The sum of squared distance between each point and the centroid in a cluster\n",
    "for i in range(1,10):\n",
    "    kmeans = KMeans(n_clusters=i, init=\"k-means++\", random_state=42)\n",
    "    kmeans.fit(scaled_data)\n",
    "    wcss.append(kmeans.inertia_)\n"
   ]
  },
  {
   "cell_type": "code",
   "execution_count": 19,
   "metadata": {},
   "outputs": [
    {
     "data": {
      "image/png": "[encoded data removed]",
      "text/plain": [
       "<Figure size 720x576 with 1 Axes>"
      ]
     },
     "metadata": {
      "needs_background": "light"
     },
     "output_type": "display_data"
    }
   ],
   "source": [
    "plt.figure(figsize=(10,8))\n",
    "plt.plot(range(1,10), wcss, marker='o', linestyle='--')\n",
    "plt.xlabel('Cluster Numbers')\n",
    "plt.ylabel(\"wcss\")\n",
    "plt.title(\"K-means Clustering Results\")\n",
    "plt.show()"
   ]
  },
  {
   "cell_type": "markdown",
   "metadata": {},
   "source": [
    "### If we use elbow method to graphic you see abose. We can understand we have 4 clusters. Then lets use Kmeans with cluster number 4."
   ]
  },
  {
   "cell_type": "code",
   "execution_count": 20,
   "metadata": {},
   "outputs": [
    {
     "data": {
      "text/plain": [
       "array([2, 0, 0, 0, 2, 0, 0, 0, 0, 0, 0, 0, 0, 0, 0, 2, 0, 0, 0, 2, 3, 0,\n",
       "       0, 0, 0, 0, 0, 0, 0, 0, 2, 0, 0, 0, 3, 3, 3, 1, 3, 3, 0, 0, 3, 0,\n",
       "       0, 1, 2, 1, 1, 1, 3, 3, 1, 1, 3, 3, 1, 1, 3, 3, 1, 1, 2, 1, 1, 1,\n",
       "       3, 1, 1, 3, 3, 1, 1, 1, 1, 1, 1, 1, 1, 1, 1, 1, 1, 1, 1, 1, 1, 1])"
      ]
     },
     "execution_count": 20,
     "metadata": {},
     "output_type": "execute_result"
    }
   ],
   "source": [
    "kmeans = KMeans(n_clusters=4, random_state=42)\n",
    "classes = kmeans.fit_predict(scaled_data)\n",
    "classes"
   ]
  },
  {
   "cell_type": "code",
   "execution_count": 21,
   "metadata": {},
   "outputs": [
    {
     "data": {
      "text/html": [
       "<div>\n",
       "<style scoped>\n",
       "    .dataframe tbody tr th:only-of-type {\n",
       "        vertical-align: middle;\n",
       "    }\n",
       "\n",
       "    .dataframe tbody tr th {\n",
       "        vertical-align: top;\n",
       "    }\n",
       "\n",
       "    .dataframe thead th {\n",
       "        text-align: right;\n",
       "    }\n",
       "</style>\n",
       "<table border=\"1\" class=\"dataframe\">\n",
       "  <thead>\n",
       "    <tr style=\"text-align: right;\">\n",
       "      <th></th>\n",
       "      <th>ageg</th>\n",
       "      <th>alcgp</th>\n",
       "      <th>tobgp</th>\n",
       "      <th>ncases</th>\n",
       "      <th>ncontrols</th>\n",
       "      <th>class</th>\n",
       "    </tr>\n",
       "  </thead>\n",
       "  <tbody>\n",
       "    <tr>\n",
       "      <th>0</th>\n",
       "      <td>0</td>\n",
       "      <td>0</td>\n",
       "      <td>0</td>\n",
       "      <td>0</td>\n",
       "      <td>40</td>\n",
       "      <td>2</td>\n",
       "    </tr>\n",
       "    <tr>\n",
       "      <th>1</th>\n",
       "      <td>0</td>\n",
       "      <td>0</td>\n",
       "      <td>1</td>\n",
       "      <td>0</td>\n",
       "      <td>10</td>\n",
       "      <td>0</td>\n",
       "    </tr>\n",
       "    <tr>\n",
       "      <th>2</th>\n",
       "      <td>0</td>\n",
       "      <td>0</td>\n",
       "      <td>2</td>\n",
       "      <td>0</td>\n",
       "      <td>6</td>\n",
       "      <td>0</td>\n",
       "    </tr>\n",
       "    <tr>\n",
       "      <th>3</th>\n",
       "      <td>0</td>\n",
       "      <td>0</td>\n",
       "      <td>3</td>\n",
       "      <td>0</td>\n",
       "      <td>5</td>\n",
       "      <td>0</td>\n",
       "    </tr>\n",
       "    <tr>\n",
       "      <th>4</th>\n",
       "      <td>0</td>\n",
       "      <td>2</td>\n",
       "      <td>0</td>\n",
       "      <td>0</td>\n",
       "      <td>27</td>\n",
       "      <td>2</td>\n",
       "    </tr>\n",
       "  </tbody>\n",
       "</table>\n",
       "</div>"
      ],
      "text/plain": [
       "   ageg  alcgp  tobgp  ncases  ncontrols  class\n",
       "0     0      0      0       0         40      2\n",
       "1     0      0      1       0         10      0\n",
       "2     0      0      2       0          6      0\n",
       "3     0      0      3       0          5      0\n",
       "4     0      2      0       0         27      2"
      ]
     },
     "execution_count": 21,
     "metadata": {},
     "output_type": "execute_result"
    }
   ],
   "source": [
    "data_with_classes = pd.concat([preprocessed_data, pd.DataFrame(classes)],\n",
    "                            axis=1)\n",
    "data_with_classes.columns = [\"ageg\", \"alcgp\",\"tobgp\", \"ncases\", \"ncontrols\",\"class\"]\n",
    "data_with_classes.head()"
   ]
  },
  {
   "cell_type": "markdown",
   "metadata": {},
   "source": [
    "# *DATA SIZE*"
   ]
  },
  {
   "cell_type": "code",
   "execution_count": 22,
   "metadata": {},
   "outputs": [
    {
     "name": "stdout",
     "output_type": "stream",
     "text": [
      "Raw data size:  440\n",
      "Data size after KMeans:  528\n"
     ]
    }
   ],
   "source": [
    "print(\"Raw data size: \", len(preprocessed_data)*len(preprocessed_data.columns))\n",
    "print(\"Data size after KMeans: \", len(data_with_classes)*len(data_with_classes.columns))"
   ]
  },
  {
   "cell_type": "markdown",
   "metadata": {},
   "source": [
    "# *DATA AUGMENTATION.*"
   ]
  },
  {
   "cell_type": "markdown",
   "metadata": {},
   "source": [
    "### With Seaborn's pairplot function, we can figure out new variables that could help us."
   ]
  },
  {
   "cell_type": "code",
   "execution_count": 23,
   "metadata": {},
   "outputs": [
    {
     "data": {
      "text/plain": [
       "<seaborn.axisgrid.PairGrid at 0x247b7513b20>"
      ]
     },
     "execution_count": 23,
     "metadata": {},
     "output_type": "execute_result"
    },
    {
     "data": {
      "image/png": "[encoded data removed]",
      "text/plain": [
       "<Figure size 1080x1080 with 42 Axes>"
      ]
     },
     "metadata": {
      "needs_background": "light"
     },
     "output_type": "display_data"
    }
   ],
   "source": [
    "import seaborn as sns\n",
    "\n",
    "sns.pairplot(data_with_classes)"
   ]
  },
  {
   "cell_type": "markdown",
   "metadata": {},
   "source": [
    "### As you see above:\n",
    "#### - alcgp / ncontrols\n",
    "#### - tobgp / ncontrols\n",
    "### datas seems informational. Let's create these."
   ]
  },
  {
   "cell_type": "code",
   "execution_count": 24,
   "metadata": {},
   "outputs": [],
   "source": [
    "alcgp_ncontrols = alcgp_column / data_with_classes[\"ncontrols\"]"
   ]
  },
  {
   "cell_type": "code",
   "execution_count": 25,
   "metadata": {},
   "outputs": [],
   "source": [
    "tobgp_ncontrols = tobgp_column / data_with_classes[\"ncontrols\"] "
   ]
  },
  {
   "cell_type": "markdown",
   "metadata": {},
   "source": [
    "### Let's add these to out data"
   ]
  },
  {
   "cell_type": "code",
   "execution_count": 26,
   "metadata": {},
   "outputs": [
    {
     "data": {
      "text/html": [
       "<div>\n",
       "<style scoped>\n",
       "    .dataframe tbody tr th:only-of-type {\n",
       "        vertical-align: middle;\n",
       "    }\n",
       "\n",
       "    .dataframe tbody tr th {\n",
       "        vertical-align: top;\n",
       "    }\n",
       "\n",
       "    .dataframe thead th {\n",
       "        text-align: right;\n",
       "    }\n",
       "</style>\n",
       "<table border=\"1\" class=\"dataframe\">\n",
       "  <thead>\n",
       "    <tr style=\"text-align: right;\">\n",
       "      <th></th>\n",
       "      <th>alcgp_ncontrols</th>\n",
       "      <th>tobgp_ncontrols</th>\n",
       "      <th>ageg</th>\n",
       "      <th>alcgp</th>\n",
       "      <th>tobgp</th>\n",
       "      <th>ncases</th>\n",
       "      <th>ncontrols</th>\n",
       "      <th>class</th>\n",
       "    </tr>\n",
       "  </thead>\n",
       "  <tbody>\n",
       "    <tr>\n",
       "      <th>0</th>\n",
       "      <td>0.000000</td>\n",
       "      <td>0.000000</td>\n",
       "      <td>0</td>\n",
       "      <td>0</td>\n",
       "      <td>0</td>\n",
       "      <td>0</td>\n",
       "      <td>40</td>\n",
       "      <td>2</td>\n",
       "    </tr>\n",
       "    <tr>\n",
       "      <th>1</th>\n",
       "      <td>0.000000</td>\n",
       "      <td>0.100000</td>\n",
       "      <td>0</td>\n",
       "      <td>0</td>\n",
       "      <td>1</td>\n",
       "      <td>0</td>\n",
       "      <td>10</td>\n",
       "      <td>0</td>\n",
       "    </tr>\n",
       "    <tr>\n",
       "      <th>2</th>\n",
       "      <td>0.000000</td>\n",
       "      <td>0.333333</td>\n",
       "      <td>0</td>\n",
       "      <td>0</td>\n",
       "      <td>2</td>\n",
       "      <td>0</td>\n",
       "      <td>6</td>\n",
       "      <td>0</td>\n",
       "    </tr>\n",
       "    <tr>\n",
       "      <th>3</th>\n",
       "      <td>0.000000</td>\n",
       "      <td>0.600000</td>\n",
       "      <td>0</td>\n",
       "      <td>0</td>\n",
       "      <td>3</td>\n",
       "      <td>0</td>\n",
       "      <td>5</td>\n",
       "      <td>0</td>\n",
       "    </tr>\n",
       "    <tr>\n",
       "      <th>4</th>\n",
       "      <td>0.074074</td>\n",
       "      <td>0.000000</td>\n",
       "      <td>0</td>\n",
       "      <td>2</td>\n",
       "      <td>0</td>\n",
       "      <td>0</td>\n",
       "      <td>27</td>\n",
       "      <td>2</td>\n",
       "    </tr>\n",
       "  </tbody>\n",
       "</table>\n",
       "</div>"
      ],
      "text/plain": [
       "   alcgp_ncontrols  tobgp_ncontrols  ageg  alcgp  tobgp  ncases  ncontrols  \\\n",
       "0         0.000000         0.000000     0      0      0       0         40   \n",
       "1         0.000000         0.100000     0      0      1       0         10   \n",
       "2         0.000000         0.333333     0      0      2       0          6   \n",
       "3         0.000000         0.600000     0      0      3       0          5   \n",
       "4         0.074074         0.000000     0      2      0       0         27   \n",
       "\n",
       "   class  \n",
       "0      2  \n",
       "1      0  \n",
       "2      0  \n",
       "3      0  \n",
       "4      2  "
      ]
     },
     "execution_count": 26,
     "metadata": {},
     "output_type": "execute_result"
    }
   ],
   "source": [
    "augmented_data_columns = [\"alcgp_ncontrols\",\"tobgp_ncontrols\"]\n",
    "augmented_data_columns.extend(data_with_classes.columns)\n",
    "augmented_data = pd.concat([pd.DataFrame(alcgp_ncontrols), pd.DataFrame(tobgp_ncontrols), data_with_classes], axis = 1)\n",
    "augmented_data.columns = augmented_data_columns\n",
    "augmented_data.head()"
   ]
  },
  {
   "cell_type": "markdown",
   "metadata": {},
   "source": [
    "### Data size comparision after and before data augmentation"
   ]
  },
  {
   "cell_type": "code",
   "execution_count": 27,
   "metadata": {},
   "outputs": [
    {
     "name": "stdout",
     "output_type": "stream",
     "text": [
      "Data size before data augmentation: 440\n",
      "Data size after data augmentation: 616\n"
     ]
    }
   ],
   "source": [
    "print(\"Data size before data augmentation:\", len(data_with_classes) * (len(data_with_classes.columns)-1))\n",
    "print(\"Data size after data augmentation:\", len(augmented_data) * (len(augmented_data_columns)-1))"
   ]
  },
  {
   "cell_type": "markdown",
   "metadata": {},
   "source": [
    "The steps we did step by step:\n",
    "- Visualization\n",
    "- Visual Analysis\n",
    "- Creating New Variables with Mathematical Operations\n",
    "- Concatenation of New Variables\n",
    "#### Visualization:\n",
    "     With seaborn.pairplot function, if we have n variables we're getting  n x n charts.\n",
    "#### Visual Analysis:\n",
    "     By examining the distributions in the charts, we learn which feature relationships are valuable to us.\n",
    "#### Creating New Variables with Mathematical Operations\n",
    "     We create a new feature by mathematically processing the valuable features we obtained in the \"Visual Analysis\" step.\n",
    "#### Concatenation of New Variables\n",
    "     We concatenate newly created variables to our DataFrame."
   ]
  },
  {
   "cell_type": "markdown",
   "metadata": {},
   "source": [
    "# *TRAIN AND TEST DATA SPLIT.*"
   ]
  },
  {
   "cell_type": "code",
   "execution_count": 28,
   "metadata": {},
   "outputs": [],
   "source": [
    "X,y = augmented_data.iloc[:,:-1].values, augmented_data.iloc[:,-1:].values"
   ]
  },
  {
   "cell_type": "code",
   "execution_count": 29,
   "metadata": {},
   "outputs": [],
   "source": [
    "from sklearn.model_selection import StratifiedShuffleSplit\n",
    "\n",
    "sss = StratifiedShuffleSplit(test_size=0.2,random_state=42)"
   ]
  },
  {
   "cell_type": "code",
   "execution_count": 30,
   "metadata": {},
   "outputs": [
    {
     "name": "stdout",
     "output_type": "stream",
     "text": [
      "TRAIN: [ 4 35 22  5 42  7 11 71 85  1 56 55 38 59 30 47 32 80 33 76 52 29 60 48\n",
      " 15 27 69 77 18 21 65 50 54 37 10 64 45 83 72  2  6 53 31 75 74 20 14 43\n",
      "  0 41 19 70 78 79 58 44 61 23 46 86  3 57 28 26 81 39 13 49 16 51] TEST: [24  9 34 67 63 66 36 73 82 40 68 17 25  8 62 12 87 84]\n",
      "TRAIN: [84  3 79 17 40 60 86 85 71 45  4 42 10 62 47 41 36 34 65 18  9 27  1 46\n",
      " 63 70 15 53 13 25 35 50 49 51 22 69 75  6  5 30 43 68 21 59 52 73 83 82\n",
      "  7 80 14 48 29 28 58 44 61 37 72 56  0 31 64 38 66 12 77 54 24 16] TEST: [67 26  2 87 23 20 57 55 32 19 76 81 78 11 33  8 74 39]\n",
      "TRAIN: [ 6 18 28 40 60 42 21 74 51 69  9 56 11 13 63 76  4 12 53 48 70 19 66 58\n",
      "  8 50 87 68 82 41  3 10 31 23 61 81 64 34 16 24 65 54 22 29 84 52 78 71\n",
      " 67 39 14 85 26 15 45 62 43 49 57 80  0  7 27 73 46 83 35 38  5 55] TEST: [59  1 44 37 72 79 17 20 86 33 25 32 36 30 47 77  2 75]\n",
      "TRAIN: [64 32 19 18 58 56 66 68  4 27 82  7 14 61  8 80  2 53 44 74 87 49 16 38\n",
      " 35 34 24  3 67 81 29 55 77 13 12 86 84 47 62  0 36 57 48 75 46  5 79 26\n",
      "  6 39 78 10 22 60 69 30 37 17 52  9 25 54 20 76 59 40 71 21 51 33] TEST: [72 63 42 70 11 28 31 73 23  1 85 50 41 15 83 45 43 65]\n",
      "TRAIN: [32 72 59 49 53 50 35  4 83 75 42 80 25 81  6 26 58 56 74 70 24 18 46  7\n",
      " 13 55 86 69 31  8  0 22 65 48 23 20 38  2  5 36 19 17 76 10 84 37 44 11\n",
      " 78 62 73 27 12 45  9 15 82 14 40 85 57 71 67  3 52 64 66 39 87 16] TEST: [51 47 77 34 54 79 33 68 43 61 41 60  1 29 63 21 28 30]\n",
      "TRAIN: [86 63  3 52 70 34 77 37 31  5 56 32 11 47 71 36 80 15 65 44 27 57 22 58\n",
      " 84 53 78 19 26 43 85 16 74 64 30  8 35 29  1 79 66 67 42 83 54 59 10  4\n",
      " 18  9 55 38 45 48 12 20 41 62 61 13 87 68 46 25 51 23 81 17 14 40] TEST: [21  2 50 60  7 39 73 28 69 33 24 49 75  6 82 76 72  0]\n",
      "TRAIN: [11 53 33 39 25 27 82 87 32 20  8  5 38 76 61 13 36 59 28 43 81 41 22 56\n",
      " 65  9 73 45 48  0 70 75 66 14 79  2 84 86 24 29 44  3 40 62 55 68 30 64\n",
      "  4 85 60 58 80 69 67 83 57 23 19 37 18 50 21 26 10 42 74 72 46 35] TEST: [47 54  7  1 49  6 17 15 12 71 52 78 63 31 51 34 16 77]\n",
      "TRAIN: [24 82 13 40 35 48 21 80 68  8 47 18 51 44 17 74 34  0 73 43 67 56  5 29\n",
      "  3 31 38 28 11 49 50 41 37 63  4 64 87 62 86 60 46 70  6 36 58 55 54  2\n",
      " 69 65 25 75 83 84 23 30 32 57  7 79 15 78 14 33 22 39 71 77 20 76] TEST: [ 1 19 85 72 66 52 53 59 81  9 61 10 26 45 42 16 12 27]\n",
      "TRAIN: [42 57 40 15 29 46 39 44 19 50  8 48 65 83 84 54  6 76 66 47 17 25 26 85\n",
      " 61  9 62  4  3 51 23 18 22 69 33 81 24 45 41 14 56  5 58  0 10  7 78 68\n",
      " 73 75 82 86 60  1 74 37 35 53 59 64 70 27 12  2 72 34 87 38 31 67] TEST: [28 79 71 63 30 21 49 11 55 77 16 20 80 52 32 43 13 36]\n",
      "TRAIN: [ 4 68 48 72 12 50 35  1 14 40 74 86 46 42 26 59 11 30 76 34 61 57 53 66\n",
      " 67  7 33 65 24 32 23 49 64 37 80 52 15  3 73 45 16 10 70 28  2 56 36 77\n",
      " 69 21 25 18 78 51 85 54 22 81 29 82  5 60 39 20 44  6 43 47 62  0] TEST: [55  9 19 27 63 71 41 75 13 58 31 17 83 84 87 38  8 79]\n"
     ]
    }
   ],
   "source": [
    "for train_index, test_index in sss.split(X, y):\n",
    "    print(\"TRAIN:\", train_index, \"TEST:\", test_index)\n",
    "    X_train, X_test = X[train_index], X[test_index]\n",
    "    y_train, y_test = y[train_index], y[test_index]"
   ]
  },
  {
   "cell_type": "markdown",
   "metadata": {},
   "source": [
    "# *PCA AND LDA.*"
   ]
  },
  {
   "cell_type": "markdown",
   "metadata": {},
   "source": [
    "### PCA (Principal Component Analysis) main target is zipping the data and holding only valuable data. By this skill of PCA, it can be use for either data augmentation and preprocessing."
   ]
  },
  {
   "cell_type": "markdown",
   "metadata": {},
   "source": [
    "### *PCA*"
   ]
  },
  {
   "cell_type": "code",
   "execution_count": 31,
   "metadata": {},
   "outputs": [
    {
     "name": "stdout",
     "output_type": "stream",
     "text": [
      "         PC1       PC2       PC3\n",
      "0  14.856252 -3.833557 -1.172385\n",
      "1  -2.819208  3.196788  0.575729\n",
      "2   0.067634  0.563208  0.624805\n",
      "3 -11.247048 -0.088571  1.358461\n",
      "4 -11.030277 -1.352415 -1.712126\n",
      "         PC1       PC2       PC3\n",
      "0   3.405102  5.482945 -1.155043\n",
      "1 -11.174296 -2.075535 -1.752625\n",
      "2  22.820716 -4.072640 -0.149778\n",
      "3  -8.889074 -0.144775 -0.909518\n",
      "4   2.177068  1.726879  1.453106\n"
     ]
    }
   ],
   "source": [
    "from sklearn.decomposition import PCA\n",
    "\n",
    "# Create principal components\n",
    "pca = PCA(n_components=3)\n",
    "PcaX_train = pca.fit_transform(X_train)\n",
    "PcaX_test = pca.transform(X_test)\n",
    "\n",
    "component_names = [f\"PC{i+1}\" for i in range(PcaX_train.shape[1])]\n",
    "PcaX_train = pd.DataFrame(PcaX_train, columns=component_names)\n",
    "PcaX_test = pd.DataFrame(PcaX_test, columns=component_names)\n",
    "print(PcaX_train.head())\n",
    "print(PcaX_test.head())"
   ]
  },
  {
   "cell_type": "markdown",
   "metadata": {},
   "source": [
    "### *LDA*"
   ]
  },
  {
   "cell_type": "markdown",
   "metadata": {},
   "source": [
    " ### LDA, which stands for Linear Discriminant Analysis, is similar to PCA in terms of size reduction logic. But in PCA there is no concept of class. However, in PCA -unlike LDA- there is no concept of class . LDA  is intended to increase the difference between classes. Which is why, as you will see below, we do not introduce the target class to the algorithm when fitting PCA, but we do introduce it in LDA."
   ]
  },
  {
   "cell_type": "code",
   "execution_count": 32,
   "metadata": {},
   "outputs": [
    {
     "name": "stdout",
     "output_type": "stream",
     "text": [
      "        PC1       PC2       PC3\n",
      "0  4.073420 -1.182229  0.898818\n",
      "1 -1.981324  1.714466  0.019272\n",
      "2 -0.875660  0.241864 -1.080865\n",
      "3 -1.588514  0.333043 -1.816982\n",
      "4  0.429509 -2.624846  1.598497\n",
      "        PC1       PC2       PC3\n",
      "0 -0.624954  2.252200  2.543637\n",
      "1  0.554358 -3.333896  0.582915\n",
      "2  4.622328 -0.096016 -0.248213\n",
      "3  0.031364 -1.554308  1.741003\n",
      "4 -0.817155  1.328188 -0.948959\n"
     ]
    }
   ],
   "source": [
    "from sklearn.discriminant_analysis import LinearDiscriminantAnalysis as LDA\n",
    "\n",
    "lda = LDA(n_components = 3)\n",
    "\n",
    "LdaX_train = lda.fit_transform(X_train, y_train.ravel())\n",
    "LdaX_test = lda.transform(X_test)\n",
    "\n",
    "component_names = [f\"PC{i+1}\" for i in range(LdaX_train.shape[1])]\n",
    "LdaX_train = pd.DataFrame(LdaX_train, columns=component_names)\n",
    "LdaX_test = pd.DataFrame(LdaX_test, columns=component_names)\n",
    "print(LdaX_train.head())\n",
    "print(LdaX_test.head())"
   ]
  },
  {
   "cell_type": "code",
   "execution_count": 33,
   "metadata": {},
   "outputs": [
    {
     "name": "stdout",
     "output_type": "stream",
     "text": [
      "\u001b[2;37;RAW VARIABLES - TARGET CLASS CORRELATIONS\n",
      "0   -0.237301\n",
      "1   -0.326274\n",
      "2    0.361620\n",
      "3    0.157156\n",
      "4   -0.485862\n",
      "5    0.690005\n",
      "6    0.558378\n",
      "0    1.000000\n",
      "Name: 0, dtype: float64\n",
      "PCA APPLIED VARIABLES - TARGET CLASS CORRELATIONS\n",
      "PC1    0.566466\n",
      "PC2    0.558867\n",
      "PC3    0.079354\n",
      "0      1.000000\n",
      "Name: 0, dtype: float64\n",
      "LDA APPLIED VARIABLES - TARGET CLASS CORRELATIONS\n",
      "PC1    0.279661\n",
      "PC2    0.734401\n",
      "PC3    0.246430\n",
      "0      1.000000\n",
      "Name: 0, dtype: float64\n"
     ]
    }
   ],
   "source": [
    "print(\"\\033[2;37;RAW VARIABLES - TARGET CLASS CORRELATIONS\")\n",
    "print(pd.concat([pd.DataFrame(X_train), pd.DataFrame(y_train)],axis=1).corr().iloc[:,-1])\n",
    "print(\"PCA APPLIED VARIABLES - TARGET CLASS CORRELATIONS\")\n",
    "print(pd.concat([pd.DataFrame(PcaX_train), pd.DataFrame(y_train)],axis=1).corr().iloc[:,-1])\n",
    "print(\"LDA APPLIED VARIABLES - TARGET CLASS CORRELATIONS\")\n",
    "print(pd.concat([pd.DataFrame(LdaX_train), pd.DataFrame(y_train)],axis=1).corr().iloc[:,-1])"
   ]
  },
  {
   "cell_type": "markdown",
   "metadata": {},
   "source": [
    "**LDA and PCA downgraded to same dimension for having a fair comparision*"
   ]
  },
  {
   "cell_type": "markdown",
   "metadata": {},
   "source": [
    "### PCA - RAW - LDA comparison with Logistic Regression"
   ]
  },
  {
   "cell_type": "code",
   "execution_count": 34,
   "metadata": {},
   "outputs": [
    {
     "name": "stdout",
     "output_type": "stream",
     "text": [
      "RAW DATA ACCURACY:  1.0\n",
      "PCA DATA ACCURACY:  0.8333333333333334\n",
      "LDA DATA ACCURACY:  0.9444444444444444\n"
     ]
    },
    {
     "name": "stderr",
     "output_type": "stream",
     "text": [
      "C:\\Users\\ABRA\\.conda\\envs\\tensor_gpu\\lib\\site-packages\\sklearn\\linear_model\\_logistic.py:814: ConvergenceWarning: lbfgs failed to converge (status=1):\n",
      "STOP: TOTAL NO. of ITERATIONS REACHED LIMIT.\n",
      "\n",
      "Increase the number of iterations (max_iter) or scale the data as shown in:\n",
      "    https://scikit-learn.org/stable/modules/preprocessing.html\n",
      "Please also refer to the documentation for alternative solver options:\n",
      "    https://scikit-learn.org/stable/modules/linear_model.html#logistic-regression\n",
      "  n_iter_i = _check_optimize_result(\n"
     ]
    }
   ],
   "source": [
    "from sklearn.linear_model import LogisticRegression\n",
    "from sklearn.metrics import accuracy_score\n",
    "\n",
    "lr_ham = LogisticRegression()\n",
    "lr_pca = LogisticRegression()\n",
    "lr_lda = LogisticRegression()\n",
    "\n",
    "# By .ravel(), we're getting a 1d array\n",
    "lr_ham.fit(X_train, y_train.ravel())\n",
    "lr_pca.fit(PcaX_train, y_train.ravel())\n",
    "lr_lda.fit(LdaX_train, y_train.ravel())\n",
    "\n",
    "preds_ham = lr_ham.predict(X_test)\n",
    "preds_pca = lr_pca.predict(PcaX_test)\n",
    "preds_lda = lr_lda.predict(LdaX_test)\n",
    "\n",
    "acc_ham = accuracy_score(y_test,preds_ham)\n",
    "acc_pca = accuracy_score(y_test,preds_pca)\n",
    "acc_lda = accuracy_score(y_test,preds_lda)\n",
    "\n",
    "print(\"RAW DATA ACCURACY: \",acc_ham)\n",
    "print(\"PCA DATA ACCURACY: \",acc_pca)\n",
    "print(\"LDA DATA ACCURACY: \",acc_lda)\n"
   ]
  },
  {
   "cell_type": "markdown",
   "metadata": {},
   "source": [
    "# *kNN, SVM, ADABOOST, NAIVE BAYES ALGORITHM'S TEST ON TEST DATA*"
   ]
  },
  {
   "cell_type": "code",
   "execution_count": 35,
   "metadata": {},
   "outputs": [],
   "source": [
    "from sklearn.naive_bayes import MultinomialNB\n",
    "from sklearn.neighbors import KNeighborsClassifier\n",
    "from sklearn.svm import SVC\n",
    "from sklearn.ensemble import AdaBoostClassifier"
   ]
  },
  {
   "cell_type": "markdown",
   "metadata": {},
   "source": [
    "### According to last results we get in PCA-LDA-RAW data comparison, we're gonna use raw data for these tests"
   ]
  },
  {
   "cell_type": "code",
   "execution_count": 36,
   "metadata": {},
   "outputs": [],
   "source": [
    "# To store accuracy results\n",
    "results = dict()"
   ]
  },
  {
   "cell_type": "code",
   "execution_count": 37,
   "metadata": {},
   "outputs": [],
   "source": [
    "#kNN\n",
    "\n",
    "knn = KNeighborsClassifier()\n",
    "knn.fit(X_train, y_train.ravel())\n",
    "preds = knn.predict(X_test)\n",
    "results[\"knn\"] = accuracy_score(y_test,preds)"
   ]
  },
  {
   "cell_type": "code",
   "execution_count": 38,
   "metadata": {},
   "outputs": [],
   "source": [
    "#SVC\n",
    "\n",
    "svc = SVC()\n",
    "svc.fit(X_train, y_train.ravel())\n",
    "preds = svc.predict(X_test)\n",
    "results[\"svc\"] = accuracy_score(y_test,preds)"
   ]
  },
  {
   "cell_type": "code",
   "execution_count": 39,
   "metadata": {},
   "outputs": [],
   "source": [
    "#MultinomialNB\n",
    "\n",
    "bayes = MultinomialNB()\n",
    "bayes.fit(X_train, y_train.ravel())\n",
    "preds = bayes.predict(X_test)\n",
    "results[\"NBayes\"] = accuracy_score(y_test,preds)"
   ]
  },
  {
   "cell_type": "code",
   "execution_count": 40,
   "metadata": {},
   "outputs": [],
   "source": [
    "#AdaBoostClassifier\n",
    "\n",
    "ABC = AdaBoostClassifier()\n",
    "ABC.fit(X_train, y_train.ravel())\n",
    "preds = ABC.predict(X_test)\n",
    "results[\"AdaBoost\"] = accuracy_score(y_test,preds)"
   ]
  },
  {
   "cell_type": "code",
   "execution_count": 41,
   "metadata": {},
   "outputs": [
    {
     "data": {
      "image/png": "[encoded data removed]",
      "text/plain": [
       "<Figure size 648x432 with 1 Axes>"
      ]
     },
     "metadata": {
      "needs_background": "light"
     },
     "output_type": "display_data"
    }
   ],
   "source": [
    "ax = plt.figure(figsize=(9,6))\n",
    "plt.bar(results.keys(),results.values())\n",
    "plt.xlabel(\"Algorithms\")\n",
    "plt.ylabel(\"Accuracies\")\n",
    "plt.title(\"Accuracies according to Algorithms\")\n",
    "\n",
    "for i, v in enumerate(results.values()):\n",
    "    plt.text(x = i-.1, y = v+.01 , s = f\"{v:.2f}\", color=\"blue\", fontweight=\"bold\")\n",
    "plt.tight_layout()\n",
    "plt.show()"
   ]
  },
  {
   "cell_type": "markdown",
   "metadata": {},
   "source": [
    "### Adaboost and SVC like Multinomial Naive Bayes and kNN gave same results in between each other. Adaboost and SVC gave better results to us comparing to Multinomial Naive Bayes and kNN."
   ]
  },
  {
   "cell_type": "markdown",
   "metadata": {},
   "source": [
    "# *CNN*"
   ]
  },
  {
   "cell_type": "code",
   "execution_count": 42,
   "metadata": {},
   "outputs": [],
   "source": [
    "import tensorflow as tf\n",
    "from tensorflow.keras.layers import Dense, Input, Flatten\n",
    "from tensorflow.keras.layers import Dropout, Conv1D\n",
    "from tensorflow.keras.models import Sequential\n",
    "from tensorflow.keras.layers import MaxPooling1D"
   ]
  },
  {
   "cell_type": "code",
   "execution_count": 43,
   "metadata": {},
   "outputs": [
    {
     "name": "stdout",
     "output_type": "stream",
     "text": [
      "(70, 7)\n",
      "(7,)\n",
      "[ 0.07407407  0.          0.          2.          0.          0.\n",
      " 27.        ]\n"
     ]
    }
   ],
   "source": [
    "# Take a look to our data shapes\n",
    "print(X_train.shape)\n",
    "print(X_train[0].shape)\n",
    "print(X_train[0])"
   ]
  },
  {
   "cell_type": "markdown",
   "metadata": {},
   "source": [
    "### We're gonna use layers which make changes data shape like MaxPooling1D and Conv1D and these layers are working with 3 dimensional data, because of this we'll upgrade our data dimension from 2 to 3. By numpy.ndarray.reshape(), this job can easily over."
   ]
  },
  {
   "cell_type": "code",
   "execution_count": 44,
   "metadata": {},
   "outputs": [
    {
     "name": "stdout",
     "output_type": "stream",
     "text": [
      "Dataset shape after reshape: (70, 7, 1)\n",
      "A sample's shape:  (7, 1)\n",
      "Sample data: \n",
      " [[ 0.07407407]\n",
      " [ 0.        ]\n",
      " [ 0.        ]\n",
      " [ 2.        ]\n",
      " [ 0.        ]\n",
      " [ 0.        ]\n",
      " [27.        ]]\n"
     ]
    }
   ],
   "source": [
    "sample_size = X_train.shape[0]\n",
    "time_steps = X_train.shape[1]\n",
    "input_dimension = 1\n",
    "input_shape = (sample_size, time_steps, input_dimension)\n",
    "X_train_data_reshaped = X_train.reshape(input_shape)\n",
    "\n",
    "print(\"Dataset shape after reshape:\", X_train_data_reshaped.shape)\n",
    "print(\"A sample's shape: \",X_train_data_reshaped[0].shape)\n",
    "print(\"Sample data: \\n\", X_train_data_reshaped[0])"
   ]
  },
  {
   "cell_type": "code",
   "execution_count": 45,
   "metadata": {},
   "outputs": [
    {
     "data": {
      "text/plain": [
       "(18, 7, 1)"
      ]
     },
     "execution_count": 45,
     "metadata": {},
     "output_type": "execute_result"
    }
   ],
   "source": [
    "# Doing same steps also for test data\n",
    "X_test_data_reshaped = X_test.reshape(X_test.shape[0],X_test.shape[1],1)\n",
    "X_test_data_reshaped.shape"
   ]
  },
  {
   "cell_type": "code",
   "execution_count": 46,
   "metadata": {},
   "outputs": [
    {
     "name": "stdout",
     "output_type": "stream",
     "text": [
      "WARNING:tensorflow:Please add `keras.layers.InputLayer` instead of `keras.Input` to Sequential model. `keras.Input` is intended to be used by Functional model.\n",
      "Model: \"model_conv1D\"\n",
      "_________________________________________________________________\n",
      "Layer (type)                 Output Shape              Param #   \n",
      "=================================================================\n",
      "Conv1D_1 (Conv1D)            (None, 5, 64)             256       \n",
      "_________________________________________________________________\n",
      "dropout (Dropout)            (None, 5, 64)             0         \n",
      "_________________________________________________________________\n",
      "Conv1D_2 (Conv1D)            (None, 3, 32)             6176      \n",
      "_________________________________________________________________\n",
      "MaxPooling1D (MaxPooling1D)  (None, 1, 32)             0         \n",
      "_________________________________________________________________\n",
      "flatten (Flatten)            (None, 32)                0         \n",
      "_________________________________________________________________\n",
      "Dense_1 (Dense)              (None, 32)                1056      \n",
      "_________________________________________________________________\n",
      "Dense_2 (Dense)              (None, 1)                 33        \n",
      "=================================================================\n",
      "Total params: 7,521\n",
      "Trainable params: 7,521\n",
      "Non-trainable params: 0\n",
      "_________________________________________________________________\n"
     ]
    }
   ],
   "source": [
    "#Model architecture\n",
    "def build_cnn_model():\n",
    "\n",
    "  n_timesteps = X_train_data_reshaped.shape[1] #7\n",
    "  n_features  = X_train_data_reshaped.shape[2] #1\n",
    "\n",
    "  model = Sequential(name=\"model_conv1D\")\n",
    "\n",
    "  model.add(Input(shape=(n_timesteps,n_features)))\n",
    "  model.add(Conv1D(filters=64, kernel_size=3, activation='relu', name=\"Conv1D_1\"))\n",
    "  model.add(Dropout(0.5)) # To avoid overfitting\n",
    "  model.add(Conv1D(filters=32,kernel_size=3, activation='relu', name=\"Conv1D_2\"))\n",
    "\n",
    "  model.add(MaxPooling1D(pool_size=2, name=\"MaxPooling1D\")) \n",
    "\n",
    "  model.add(Flatten())\n",
    "  model.add(Dense(32, activation='relu', name=\"Dense_1\"))\n",
    "  model.add(Dense(n_features, name=\"Dense_2\"))\n",
    "\n",
    "\n",
    "  optimizer = tf.keras.optimizers.RMSprop(0.001)\n",
    "\n",
    "  model.compile(loss='mse',optimizer=optimizer,metrics=['mae'],)\n",
    "  return model\n",
    "\n",
    "cnn_model = build_cnn_model()\n",
    "cnn_model.summary()"
   ]
  },
  {
   "cell_type": "code",
   "execution_count": 47,
   "metadata": {},
   "outputs": [
    {
     "name": "stdout",
     "output_type": "stream",
     "text": [
      "Epoch 1/100\n",
      "3/3 [==============================] - 6s 125ms/step - loss: 2.5498 - mae: 1.2073 - val_loss: 1.0513 - val_mae: 0.7336\n",
      "Epoch 2/100\n",
      "3/3 [==============================] - 0s 13ms/step - loss: 1.1122 - mae: 0.7888 - val_loss: 0.8341 - val_mae: 0.6481\n",
      "Epoch 3/100\n",
      "3/3 [==============================] - 0s 13ms/step - loss: 0.9495 - mae: 0.7314 - val_loss: 0.7402 - val_mae: 0.6955\n",
      "Epoch 4/100\n",
      "3/3 [==============================] - 0s 12ms/step - loss: 0.9606 - mae: 0.7685 - val_loss: 0.7196 - val_mae: 0.7288\n",
      "Epoch 5/100\n",
      "3/3 [==============================] - 0s 13ms/step - loss: 0.7581 - mae: 0.6983 - val_loss: 0.6847 - val_mae: 0.6340\n",
      "Epoch 6/100\n",
      "3/3 [==============================] - 0s 12ms/step - loss: 0.8472 - mae: 0.7119 - val_loss: 0.6410 - val_mae: 0.6637\n",
      "Epoch 7/100\n",
      "3/3 [==============================] - 0s 14ms/step - loss: 0.8219 - mae: 0.7186 - val_loss: 0.6107 - val_mae: 0.6125\n",
      "Epoch 8/100\n",
      "3/3 [==============================] - 0s 13ms/step - loss: 0.7595 - mae: 0.6921 - val_loss: 0.5736 - val_mae: 0.5971\n",
      "Epoch 9/100\n",
      "3/3 [==============================] - 0s 14ms/step - loss: 0.8973 - mae: 0.7681 - val_loss: 0.5531 - val_mae: 0.5715\n",
      "Epoch 10/100\n",
      "3/3 [==============================] - 0s 15ms/step - loss: 0.7013 - mae: 0.6498 - val_loss: 0.5388 - val_mae: 0.6214\n",
      "Epoch 11/100\n",
      "3/3 [==============================] - 0s 12ms/step - loss: 0.7586 - mae: 0.6741 - val_loss: 0.4964 - val_mae: 0.5296\n",
      "Epoch 12/100\n",
      "3/3 [==============================] - 0s 19ms/step - loss: 0.7375 - mae: 0.6599 - val_loss: 0.4682 - val_mae: 0.5380\n",
      "Epoch 13/100\n",
      "3/3 [==============================] - 0s 13ms/step - loss: 0.6516 - mae: 0.6091 - val_loss: 0.4524 - val_mae: 0.5054\n",
      "Epoch 14/100\n",
      "3/3 [==============================] - 0s 13ms/step - loss: 0.6743 - mae: 0.6262 - val_loss: 0.4391 - val_mae: 0.4983\n",
      "Epoch 15/100\n",
      "3/3 [==============================] - 0s 13ms/step - loss: 0.7392 - mae: 0.6798 - val_loss: 0.4263 - val_mae: 0.4816\n",
      "Epoch 16/100\n",
      "3/3 [==============================] - 0s 14ms/step - loss: 0.7117 - mae: 0.6440 - val_loss: 0.4266 - val_mae: 0.4852\n",
      "Epoch 17/100\n",
      "3/3 [==============================] - 0s 12ms/step - loss: 0.5930 - mae: 0.5826 - val_loss: 0.4121 - val_mae: 0.4778\n",
      "Epoch 18/100\n",
      "3/3 [==============================] - 0s 13ms/step - loss: 0.5618 - mae: 0.5616 - val_loss: 0.4158 - val_mae: 0.5081\n",
      "Epoch 19/100\n",
      "3/3 [==============================] - 0s 14ms/step - loss: 0.6981 - mae: 0.6170 - val_loss: 0.4163 - val_mae: 0.4746\n",
      "Epoch 20/100\n",
      "3/3 [==============================] - 0s 13ms/step - loss: 0.6574 - mae: 0.5977 - val_loss: 0.4439 - val_mae: 0.5661\n",
      "Epoch 21/100\n",
      "3/3 [==============================] - 0s 14ms/step - loss: 0.6561 - mae: 0.6371 - val_loss: 0.4003 - val_mae: 0.4640\n",
      "Epoch 22/100\n",
      "3/3 [==============================] - 0s 13ms/step - loss: 0.5847 - mae: 0.5673 - val_loss: 0.3862 - val_mae: 0.4551\n",
      "Epoch 23/100\n",
      "3/3 [==============================] - 0s 14ms/step - loss: 0.6473 - mae: 0.5961 - val_loss: 0.4184 - val_mae: 0.4806\n",
      "Epoch 24/100\n",
      "3/3 [==============================] - 0s 13ms/step - loss: 0.6973 - mae: 0.5968 - val_loss: 0.4009 - val_mae: 0.4647\n",
      "Epoch 25/100\n",
      "3/3 [==============================] - 0s 13ms/step - loss: 0.5797 - mae: 0.5516 - val_loss: 0.3913 - val_mae: 0.4931\n",
      "Epoch 26/100\n",
      "3/3 [==============================] - 0s 17ms/step - loss: 0.6382 - mae: 0.6163 - val_loss: 0.4273 - val_mae: 0.4863\n",
      "Epoch 27/100\n",
      "3/3 [==============================] - 0s 13ms/step - loss: 0.6518 - mae: 0.6200 - val_loss: 0.4242 - val_mae: 0.4862\n",
      "Epoch 28/100\n",
      "3/3 [==============================] - 0s 13ms/step - loss: 0.7141 - mae: 0.5828 - val_loss: 0.4240 - val_mae: 0.4886\n",
      "Epoch 29/100\n",
      "3/3 [==============================] - 0s 12ms/step - loss: 0.6329 - mae: 0.6102 - val_loss: 0.3997 - val_mae: 0.4791\n",
      "Epoch 30/100\n",
      "3/3 [==============================] - 0s 13ms/step - loss: 0.5616 - mae: 0.5684 - val_loss: 0.3905 - val_mae: 0.4731\n",
      "Epoch 31/100\n",
      "3/3 [==============================] - 0s 15ms/step - loss: 0.6457 - mae: 0.6072 - val_loss: 0.4387 - val_mae: 0.4965\n",
      "Epoch 32/100\n",
      "3/3 [==============================] - 0s 13ms/step - loss: 0.7155 - mae: 0.5912 - val_loss: 0.4522 - val_mae: 0.5004\n",
      "Epoch 33/100\n",
      "3/3 [==============================] - 0s 12ms/step - loss: 0.6260 - mae: 0.5712 - val_loss: 0.3924 - val_mae: 0.4712\n",
      "Epoch 34/100\n",
      "3/3 [==============================] - 0s 15ms/step - loss: 0.5162 - mae: 0.5564 - val_loss: 0.3841 - val_mae: 0.4629\n",
      "Epoch 35/100\n",
      "3/3 [==============================] - 0s 13ms/step - loss: 0.5562 - mae: 0.5739 - val_loss: 0.3709 - val_mae: 0.4528\n",
      "Epoch 36/100\n",
      "3/3 [==============================] - 0s 13ms/step - loss: 0.7775 - mae: 0.6317 - val_loss: 0.3822 - val_mae: 0.4628\n",
      "Epoch 37/100\n",
      "3/3 [==============================] - 0s 13ms/step - loss: 0.6384 - mae: 0.6019 - val_loss: 0.3712 - val_mae: 0.4473\n",
      "Epoch 38/100\n",
      "3/3 [==============================] - 0s 14ms/step - loss: 0.6586 - mae: 0.6116 - val_loss: 0.3748 - val_mae: 0.4511\n",
      "Epoch 39/100\n",
      "3/3 [==============================] - 0s 13ms/step - loss: 0.5402 - mae: 0.5627 - val_loss: 0.3674 - val_mae: 0.4446\n",
      "Epoch 40/100\n",
      "3/3 [==============================] - 0s 13ms/step - loss: 0.6023 - mae: 0.5844 - val_loss: 0.3700 - val_mae: 0.4489\n",
      "Epoch 41/100\n",
      "3/3 [==============================] - 0s 12ms/step - loss: 0.5813 - mae: 0.5842 - val_loss: 0.3727 - val_mae: 0.4458\n",
      "Epoch 42/100\n",
      "3/3 [==============================] - 0s 13ms/step - loss: 0.4131 - mae: 0.4919 - val_loss: 0.3977 - val_mae: 0.5351\n",
      "Epoch 43/100\n",
      "3/3 [==============================] - 0s 15ms/step - loss: 0.6618 - mae: 0.6315 - val_loss: 0.4425 - val_mae: 0.4988\n",
      "Epoch 44/100\n",
      "3/3 [==============================] - 0s 13ms/step - loss: 0.5155 - mae: 0.5251 - val_loss: 0.3698 - val_mae: 0.4504\n",
      "Epoch 45/100\n",
      "3/3 [==============================] - 0s 13ms/step - loss: 0.6203 - mae: 0.6061 - val_loss: 0.4038 - val_mae: 0.4745\n",
      "Epoch 46/100\n",
      "3/3 [==============================] - 0s 14ms/step - loss: 0.4953 - mae: 0.5431 - val_loss: 0.3717 - val_mae: 0.4526\n",
      "Epoch 47/100\n",
      "3/3 [==============================] - 0s 13ms/step - loss: 0.5199 - mae: 0.5486 - val_loss: 0.3692 - val_mae: 0.4666\n",
      "Epoch 48/100\n",
      "3/3 [==============================] - 0s 14ms/step - loss: 0.5120 - mae: 0.5481 - val_loss: 0.3638 - val_mae: 0.4533\n",
      "Epoch 49/100\n",
      "3/3 [==============================] - 0s 13ms/step - loss: 0.5442 - mae: 0.5765 - val_loss: 0.3713 - val_mae: 0.4786\n",
      "Epoch 50/100\n",
      "3/3 [==============================] - 0s 13ms/step - loss: 0.6713 - mae: 0.6288 - val_loss: 0.3696 - val_mae: 0.4557\n",
      "Epoch 51/100\n",
      "3/3 [==============================] - 0s 12ms/step - loss: 0.5135 - mae: 0.5355 - val_loss: 0.3967 - val_mae: 0.4739\n",
      "Epoch 52/100\n",
      "3/3 [==============================] - 0s 13ms/step - loss: 0.5793 - mae: 0.5507 - val_loss: 0.3864 - val_mae: 0.4723\n",
      "Epoch 53/100\n",
      "3/3 [==============================] - 0s 15ms/step - loss: 0.6227 - mae: 0.5962 - val_loss: 0.4656 - val_mae: 0.5127\n",
      "Epoch 54/100\n",
      "3/3 [==============================] - 0s 12ms/step - loss: 0.4800 - mae: 0.5117 - val_loss: 0.3898 - val_mae: 0.4711\n",
      "Epoch 55/100\n",
      "3/3 [==============================] - 0s 14ms/step - loss: 0.5692 - mae: 0.5514 - val_loss: 0.3764 - val_mae: 0.4563\n",
      "Epoch 56/100\n",
      "3/3 [==============================] - 0s 14ms/step - loss: 0.5063 - mae: 0.5463 - val_loss: 0.3731 - val_mae: 0.4716\n",
      "Epoch 57/100\n",
      "3/3 [==============================] - 0s 16ms/step - loss: 0.4447 - mae: 0.5225 - val_loss: 0.3753 - val_mae: 0.4780\n",
      "Epoch 58/100\n",
      "3/3 [==============================] - 0s 14ms/step - loss: 0.6200 - mae: 0.6129 - val_loss: 0.4150 - val_mae: 0.4927\n",
      "Epoch 59/100\n",
      "3/3 [==============================] - 0s 15ms/step - loss: 0.4963 - mae: 0.5366 - val_loss: 0.4525 - val_mae: 0.5134\n",
      "Epoch 60/100\n",
      "3/3 [==============================] - 0s 15ms/step - loss: 0.6386 - mae: 0.5743 - val_loss: 0.4190 - val_mae: 0.4995\n",
      "Epoch 61/100\n",
      "3/3 [==============================] - 0s 15ms/step - loss: 0.5175 - mae: 0.5388 - val_loss: 0.3619 - val_mae: 0.4589\n",
      "Epoch 62/100\n",
      "3/3 [==============================] - 0s 12ms/step - loss: 0.5094 - mae: 0.5348 - val_loss: 0.3603 - val_mae: 0.4652\n",
      "Epoch 63/100\n",
      "3/3 [==============================] - 0s 12ms/step - loss: 0.4474 - mae: 0.5197 - val_loss: 0.3569 - val_mae: 0.4762\n",
      "Epoch 64/100\n",
      "3/3 [==============================] - 0s 16ms/step - loss: 0.5029 - mae: 0.5552 - val_loss: 0.3530 - val_mae: 0.4694\n",
      "Epoch 65/100\n",
      "3/3 [==============================] - 0s 13ms/step - loss: 0.4503 - mae: 0.5329 - val_loss: 0.3821 - val_mae: 0.4823\n",
      "Epoch 66/100\n",
      "3/3 [==============================] - 0s 15ms/step - loss: 0.5215 - mae: 0.5309 - val_loss: 0.4404 - val_mae: 0.5136\n",
      "Epoch 67/100\n",
      "3/3 [==============================] - 0s 13ms/step - loss: 0.5280 - mae: 0.5490 - val_loss: 0.3500 - val_mae: 0.4584\n",
      "Epoch 68/100\n",
      "3/3 [==============================] - 0s 13ms/step - loss: 0.4879 - mae: 0.5350 - val_loss: 0.3726 - val_mae: 0.4626\n",
      "Epoch 69/100\n",
      "3/3 [==============================] - 0s 14ms/step - loss: 0.6329 - mae: 0.5871 - val_loss: 0.3677 - val_mae: 0.4482\n",
      "Epoch 70/100\n",
      "3/3 [==============================] - 0s 14ms/step - loss: 0.5007 - mae: 0.5516 - val_loss: 0.3811 - val_mae: 0.4640\n",
      "Epoch 71/100\n",
      "3/3 [==============================] - 0s 18ms/step - loss: 0.4431 - mae: 0.5244 - val_loss: 0.3733 - val_mae: 0.4591\n",
      "Epoch 72/100\n",
      "3/3 [==============================] - 0s 16ms/step - loss: 0.4509 - mae: 0.5078 - val_loss: 0.3573 - val_mae: 0.4478\n",
      "Epoch 73/100\n",
      "3/3 [==============================] - 0s 13ms/step - loss: 0.6181 - mae: 0.5642 - val_loss: 0.3932 - val_mae: 0.4746\n",
      "Epoch 74/100\n",
      "3/3 [==============================] - 0s 17ms/step - loss: 0.5583 - mae: 0.5642 - val_loss: 0.3606 - val_mae: 0.4668\n",
      "Epoch 75/100\n",
      "3/3 [==============================] - 0s 21ms/step - loss: 0.5158 - mae: 0.5533 - val_loss: 0.3677 - val_mae: 0.4730\n",
      "Epoch 76/100\n",
      "3/3 [==============================] - 0s 20ms/step - loss: 0.4956 - mae: 0.5684 - val_loss: 0.4139 - val_mae: 0.4907\n",
      "Epoch 77/100\n",
      "3/3 [==============================] - 0s 16ms/step - loss: 0.5105 - mae: 0.5457 - val_loss: 0.3780 - val_mae: 0.4632\n",
      "Epoch 78/100\n",
      "3/3 [==============================] - 0s 16ms/step - loss: 0.4266 - mae: 0.4934 - val_loss: 0.3663 - val_mae: 0.4523\n",
      "Epoch 79/100\n",
      "3/3 [==============================] - 0s 18ms/step - loss: 0.4603 - mae: 0.5175 - val_loss: 0.3578 - val_mae: 0.4558\n",
      "Epoch 80/100\n",
      "3/3 [==============================] - 0s 17ms/step - loss: 0.4218 - mae: 0.4991 - val_loss: 0.4145 - val_mae: 0.5230\n",
      "Epoch 81/100\n",
      "3/3 [==============================] - 0s 16ms/step - loss: 0.5655 - mae: 0.6202 - val_loss: 0.3653 - val_mae: 0.4601\n",
      "Epoch 82/100\n",
      "3/3 [==============================] - 0s 16ms/step - loss: 0.4944 - mae: 0.5618 - val_loss: 0.3597 - val_mae: 0.4702\n",
      "Epoch 83/100\n",
      "3/3 [==============================] - 0s 20ms/step - loss: 0.4436 - mae: 0.5104 - val_loss: 0.3533 - val_mae: 0.4609\n",
      "Epoch 84/100\n",
      "3/3 [==============================] - 0s 17ms/step - loss: 0.5148 - mae: 0.5250 - val_loss: 0.3509 - val_mae: 0.4598\n",
      "Epoch 85/100\n",
      "3/3 [==============================] - 0s 14ms/step - loss: 0.4382 - mae: 0.5214 - val_loss: 0.3878 - val_mae: 0.4698\n",
      "Epoch 86/100\n",
      "3/3 [==============================] - 0s 13ms/step - loss: 0.4744 - mae: 0.5214 - val_loss: 0.3620 - val_mae: 0.4624\n",
      "Epoch 87/100\n",
      "3/3 [==============================] - 0s 15ms/step - loss: 0.6102 - mae: 0.5276 - val_loss: 0.3636 - val_mae: 0.4612\n",
      "Epoch 88/100\n",
      "3/3 [==============================] - 0s 19ms/step - loss: 0.4848 - mae: 0.5323 - val_loss: 0.3850 - val_mae: 0.4711\n",
      "Epoch 89/100\n",
      "3/3 [==============================] - 0s 16ms/step - loss: 0.4590 - mae: 0.5261 - val_loss: 0.3593 - val_mae: 0.4581\n",
      "Epoch 90/100\n",
      "3/3 [==============================] - 0s 14ms/step - loss: 0.4808 - mae: 0.5626 - val_loss: 0.3563 - val_mae: 0.4449\n",
      "Epoch 91/100\n",
      "3/3 [==============================] - 0s 14ms/step - loss: 0.4083 - mae: 0.5004 - val_loss: 0.3530 - val_mae: 0.4425\n",
      "Epoch 92/100\n",
      "3/3 [==============================] - 0s 13ms/step - loss: 0.4649 - mae: 0.5211 - val_loss: 0.3512 - val_mae: 0.4406\n",
      "Epoch 93/100\n",
      "3/3 [==============================] - 0s 14ms/step - loss: 0.3974 - mae: 0.4895 - val_loss: 0.3667 - val_mae: 0.4448\n",
      "Epoch 94/100\n",
      "3/3 [==============================] - 0s 12ms/step - loss: 0.4484 - mae: 0.5043 - val_loss: 0.3704 - val_mae: 0.4471\n",
      "Epoch 95/100\n",
      "3/3 [==============================] - 0s 13ms/step - loss: 0.3591 - mae: 0.4695 - val_loss: 0.4131 - val_mae: 0.5318\n",
      "Epoch 96/100\n",
      "3/3 [==============================] - 0s 15ms/step - loss: 0.4959 - mae: 0.5917 - val_loss: 0.3577 - val_mae: 0.4442\n",
      "Epoch 97/100\n",
      "3/3 [==============================] - 0s 13ms/step - loss: 0.3721 - mae: 0.4771 - val_loss: 0.3556 - val_mae: 0.4550\n",
      "Epoch 98/100\n",
      "3/3 [==============================] - 0s 14ms/step - loss: 0.4512 - mae: 0.5298 - val_loss: 0.3685 - val_mae: 0.4503\n",
      "Epoch 99/100\n",
      "3/3 [==============================] - 0s 15ms/step - loss: 0.4466 - mae: 0.5202 - val_loss: 0.4140 - val_mae: 0.4658\n",
      "Epoch 100/100\n",
      "3/3 [==============================] - 0s 15ms/step - loss: 0.3804 - mae: 0.4804 - val_loss: 0.3477 - val_mae: 0.4355\n"
     ]
    },
    {
     "data": {
      "text/plain": [
       "<tensorflow.python.keras.callbacks.History at 0x247ce1228e0>"
      ]
     },
     "execution_count": 47,
     "metadata": {},
     "output_type": "execute_result"
    }
   ],
   "source": [
    "# Training\n",
    "cnn_model.fit(X_train_data_reshaped,y_train,\n",
    "            epochs = 100,\n",
    "            validation_data=(X_test_data_reshaped, y_test)\n",
    "            )"
   ]
  },
  {
   "cell_type": "code",
   "execution_count": 48,
   "metadata": {},
   "outputs": [],
   "source": [
    "# Predictions\n",
    "preds = cnn_model.predict(X_test_data_reshaped)"
   ]
  },
  {
   "cell_type": "code",
   "execution_count": 49,
   "metadata": {},
   "outputs": [
    {
     "data": {
      "text/plain": [
       "array([3, 0, 1, 2, 1, 1, 0, 1, 0, 2, 1, 0, 1, 1, 1, 2, 0, 1])"
      ]
     },
     "execution_count": 49,
     "metadata": {},
     "output_type": "execute_result"
    }
   ],
   "source": [
    "# I used round() like an activasion function.\n",
    "preds = [int(round(pred)) for pred in preds.ravel()]\n",
    "preds = np.array(preds)\n",
    "preds[np.where(preds>=4)] = 3\n",
    "preds[np.where(preds<=0)] = 0\n",
    "preds "
   ]
  },
  {
   "cell_type": "code",
   "execution_count": 50,
   "metadata": {},
   "outputs": [
    {
     "name": "stdout",
     "output_type": "stream",
     "text": [
      "\u001b[2;37;40mCONFUSION MATRIX :\n",
      "[[5 1 1 0]\n",
      " [0 7 0 0]\n",
      " [0 1 0 0]\n",
      " [0 0 2 1]]\n",
      "ACCURACY:\n",
      "0.7222222222222222\n",
      "RECALL: \n",
      "0.511904761904762\n",
      "PRECISION: \n",
      "0.6944444444444444\n",
      "F1 SCORE: \n",
      "0.5520833333333334\n"
     ]
    }
   ],
   "source": [
    "# Some metrics to examine results\n",
    "from sklearn.metrics import confusion_matrix, recall_score, precision_score, f1_score\n",
    "print(\"\\033[2;37;40mCONFUSION MATRIX :\")\n",
    "print(confusion_matrix(y_test.ravel(),preds))\n",
    "print(\"ACCURACY:\")\n",
    "print(accuracy_score(y_test.ravel(),preds))\n",
    "print(\"RECALL: \")\n",
    "print(recall_score(y_test.ravel(),preds, average='macro'))\n",
    "print(\"PRECISION: \")\n",
    "print(precision_score(y_test.ravel(),preds, average='macro'))\n",
    "print(\"F1 SCORE: \")\n",
    "print(f1_score(y_test.ravel(),preds, average='macro'))\n"
   ]
  },
  {
   "cell_type": "markdown",
   "metadata": {},
   "source": [
    "# *Voting Classifier*"
   ]
  },
  {
   "cell_type": "markdown",
   "metadata": {},
   "source": [
    "### The idea behind the VotingClassifier is to combine conceptually different machine learning classifiers and use a majority vote or the average predicted probabilities (soft vote) to predict the class labels. Such a classifier can be useful for a set of equally well performing model in order to balance out their individual weaknesses. <a href= https://scikit-learn.org/stable/modules/ensemble.html#voting-classifier>This paragraph taken by original sklearn.ensemble.VotingClassifier documentation</a>"
   ]
  },
  {
   "cell_type": "code",
   "execution_count": 51,
   "metadata": {},
   "outputs": [],
   "source": [
    "from sklearn.ensemble import RandomForestClassifier, VotingClassifier"
   ]
  },
  {
   "cell_type": "code",
   "execution_count": 52,
   "metadata": {},
   "outputs": [
    {
     "name": "stdout",
     "output_type": "stream",
     "text": [
      "Accuracy score: 1.0\n"
     ]
    }
   ],
   "source": [
    "# Selected Algorithms for Voting Classifier\n",
    "clf1 = LogisticRegression(multi_class='multinomial', solver = \"newton-cg\",random_state=1)\n",
    "clf2 = RandomForestClassifier(n_estimators=50, random_state=1)\n",
    "clf3 = MultinomialNB()\n",
    "\n",
    "VC = VotingClassifier(estimators=[\n",
    "        ('lr', clf1), ('rf', clf2), ('mnb', clf3)])\n",
    "VC.fit(X_train, y_train.ravel())\n",
    "preds = VC.predict(X_test)\n",
    "print(\"Accuracy score:\", accuracy_score(y_test, preds))"
   ]
  },
  {
   "cell_type": "code",
   "execution_count": null,
   "metadata": {},
   "outputs": [],
   "source": []
  }
 ],
 "metadata": {
  "interpreter": {
   "hash": "e62d4a51ea80e9afb07693d2c0199451d8d0b8cdd88c5c1fc37ceb90f9c84aea"
  },
  "kernelspec": {
   "display_name": "Python 3",
   "language": "python",
   "name": "python3"
  },
  "language_info": {
   "codemirror_mode": {
    "name": "ipython",
    "version": 3
   },
   "file_extension": ".py",
   "mimetype": "text/x-python",
   "name": "python",
   "nbconvert_exporter": "python",
   "pygments_lexer": "ipython3",
   "version": "3.8.8"
  }
 },
 "nbformat": 4,
 "nbformat_minor": 2
}
